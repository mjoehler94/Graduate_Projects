{
 "cells": [
  {
   "cell_type": "markdown",
   "metadata": {},
   "source": [
    "### Car Crash Analysis"
   ]
  },
  {
   "cell_type": "code",
   "execution_count": 1,
   "metadata": {},
   "outputs": [],
   "source": [
    "#read in the data\n",
    "setwd(\"~/Matt BYU/10 Winter 2018/Stat 536/EDA 6 Crashes\")\n",
    "crash.raw <- read.table('Crash.txt',header=T)\n",
    "crash <- crash.raw[,c(2:8,10:14,9)]"
   ]
  },
  {
   "cell_type": "code",
   "execution_count": 6,
   "metadata": {},
   "outputs": [
    {
     "data": {
      "text/html": [
       "<table>\n",
       "<thead><tr><th scope=col>HOUR</th><th scope=col>LGT_COND</th><th scope=col>WEATHER</th><th scope=col>ALCOHOL</th><th scope=col>TYP_INT</th><th scope=col>REST_USE</th><th scope=col>AIR_BAG</th><th scope=col>VTRAFWAY</th><th scope=col>VNUM_LAN</th><th scope=col>VSPD_LIM</th><th scope=col>VALIGN</th><th scope=col>VSURCOND</th><th scope=col>SEVERITY</th></tr></thead>\n",
       "<tbody>\n",
       "\t<tr><td>19</td><td>2 </td><td>2 </td><td>2 </td><td>1 </td><td>3 </td><td>20</td><td>1 </td><td>2 </td><td>40</td><td>1 </td><td>2 </td><td>1 </td></tr>\n",
       "\t<tr><td> 5</td><td>2 </td><td>1 </td><td>2 </td><td>1 </td><td>3 </td><td> 9</td><td>1 </td><td>2 </td><td>55</td><td>3 </td><td>1 </td><td>1 </td></tr>\n",
       "\t<tr><td>17</td><td>3 </td><td>1 </td><td>2 </td><td>2 </td><td>3 </td><td> 1</td><td>1 </td><td>6 </td><td>50</td><td>1 </td><td>1 </td><td>1 </td></tr>\n",
       "\t<tr><td>18</td><td>2 </td><td>1 </td><td>2 </td><td>2 </td><td>3 </td><td>20</td><td>1 </td><td>3 </td><td>50</td><td>2 </td><td>1 </td><td>0 </td></tr>\n",
       "\t<tr><td>20</td><td>3 </td><td>1 </td><td>2 </td><td>2 </td><td>3 </td><td>20</td><td>1 </td><td>5 </td><td>50</td><td>1 </td><td>1 </td><td>0 </td></tr>\n",
       "\t<tr><td> 1</td><td>2 </td><td>1 </td><td>1 </td><td>1 </td><td>2 </td><td> 1</td><td>1 </td><td>2 </td><td>35</td><td>1 </td><td>1 </td><td>1 </td></tr>\n",
       "</tbody>\n",
       "</table>\n"
      ],
      "text/latex": [
       "\\begin{tabular}{r|lllllllllllll}\n",
       " HOUR & LGT\\_COND & WEATHER & ALCOHOL & TYP\\_INT & REST\\_USE & AIR\\_BAG & VTRAFWAY & VNUM\\_LAN & VSPD\\_LIM & VALIGN & VSURCOND & SEVERITY\\\\\n",
       "\\hline\n",
       "\t 19 & 2  & 2  & 2  & 1  & 3  & 20 & 1  & 2  & 40 & 1  & 2  & 1 \\\\\n",
       "\t  5 & 2  & 1  & 2  & 1  & 3  &  9 & 1  & 2  & 55 & 3  & 1  & 1 \\\\\n",
       "\t 17 & 3  & 1  & 2  & 2  & 3  &  1 & 1  & 6  & 50 & 1  & 1  & 1 \\\\\n",
       "\t 18 & 2  & 1  & 2  & 2  & 3  & 20 & 1  & 3  & 50 & 2  & 1  & 0 \\\\\n",
       "\t 20 & 3  & 1  & 2  & 2  & 3  & 20 & 1  & 5  & 50 & 1  & 1  & 0 \\\\\n",
       "\t  1 & 2  & 1  & 1  & 1  & 2  &  1 & 1  & 2  & 35 & 1  & 1  & 1 \\\\\n",
       "\\end{tabular}\n"
      ],
      "text/markdown": [
       "\n",
       "HOUR | LGT_COND | WEATHER | ALCOHOL | TYP_INT | REST_USE | AIR_BAG | VTRAFWAY | VNUM_LAN | VSPD_LIM | VALIGN | VSURCOND | SEVERITY | \n",
       "|---|---|---|---|---|---|\n",
       "| 19 | 2  | 2  | 2  | 1  | 3  | 20 | 1  | 2  | 40 | 1  | 2  | 1  | \n",
       "|  5 | 2  | 1  | 2  | 1  | 3  |  9 | 1  | 2  | 55 | 3  | 1  | 1  | \n",
       "| 17 | 3  | 1  | 2  | 2  | 3  |  1 | 1  | 6  | 50 | 1  | 1  | 1  | \n",
       "| 18 | 2  | 1  | 2  | 2  | 3  | 20 | 1  | 3  | 50 | 2  | 1  | 0  | \n",
       "| 20 | 3  | 1  | 2  | 2  | 3  | 20 | 1  | 5  | 50 | 1  | 1  | 0  | \n",
       "|  1 | 2  | 1  | 1  | 1  | 2  |  1 | 1  | 2  | 35 | 1  | 1  | 1  | \n",
       "\n",
       "\n"
      ],
      "text/plain": [
       "  HOUR LGT_COND WEATHER ALCOHOL TYP_INT REST_USE AIR_BAG VTRAFWAY VNUM_LAN\n",
       "1 19   2        2       2       1       3        20      1        2       \n",
       "2  5   2        1       2       1       3         9      1        2       \n",
       "3 17   3        1       2       2       3         1      1        6       \n",
       "4 18   2        1       2       2       3        20      1        3       \n",
       "5 20   3        1       2       2       3        20      1        5       \n",
       "6  1   2        1       1       1       2         1      1        2       \n",
       "  VSPD_LIM VALIGN VSURCOND SEVERITY\n",
       "1 40       1      2        1       \n",
       "2 55       3      1        1       \n",
       "3 50       1      1        1       \n",
       "4 50       2      1        0       \n",
       "5 50       1      1        0       \n",
       "6 35       1      1        1       "
      ]
     },
     "metadata": {},
     "output_type": "display_data"
    },
    {
     "name": "stdout",
     "output_type": "stream",
     "text": [
      "dimensions: 8603 13"
     ]
    }
   ],
   "source": [
    "head(crash)\n",
    "cat(\"dimensions:\",dim(crash))"
   ]
  },
  {
   "cell_type": "code",
   "execution_count": 8,
   "metadata": {},
   "outputs": [
    {
     "data": {
      "text/plain": [
       "      HOUR          LGT_COND        WEATHER          ALCOHOL     \n",
       " Min.   : 0.00   Min.   :1.000   Min.   : 1.000   Min.   :1.000  \n",
       " 1st Qu.: 9.00   1st Qu.:1.000   1st Qu.: 1.000   1st Qu.:2.000  \n",
       " Median :14.00   Median :1.000   Median : 1.000   Median :2.000  \n",
       " Mean   :13.02   Mean   :1.626   Mean   : 2.682   Mean   :1.875  \n",
       " 3rd Qu.:17.00   3rd Qu.:2.000   3rd Qu.: 2.000   3rd Qu.:2.000  \n",
       " Max.   :23.00   Max.   :5.000   Max.   :12.000   Max.   :2.000  \n",
       "    TYP_INT         REST_USE        AIR_BAG         VTRAFWAY        VNUM_LAN   \n",
       " Min.   : 1.00   Min.   :0.000   Min.   : 0.00   Min.   :1.000   Min.   :1.00  \n",
       " 1st Qu.: 1.00   1st Qu.:3.000   1st Qu.: 1.00   1st Qu.:1.000   1st Qu.:2.00  \n",
       " Median : 1.00   Median :3.000   Median :20.00   Median :2.000   Median :2.00  \n",
       " Mean   : 1.55   Mean   :3.562   Mean   :12.18   Mean   :2.058   Mean   :2.66  \n",
       " 3rd Qu.: 2.00   3rd Qu.:3.000   3rd Qu.:20.00   3rd Qu.:3.000   3rd Qu.:3.00  \n",
       " Max.   :10.00   Max.   :8.000   Max.   :20.00   Max.   :6.000   Max.   :7.00  \n",
       "    VSPD_LIM         VALIGN         VSURCOND         SEVERITY     \n",
       " Min.   : 5.00   Min.   :1.000   Min.   : 1.000   Min.   :0.0000  \n",
       " 1st Qu.:35.00   1st Qu.:1.000   1st Qu.: 1.000   1st Qu.:0.0000  \n",
       " Median :45.00   Median :1.000   Median : 1.000   Median :0.0000  \n",
       " Mean   :43.53   Mean   :1.221   Mean   : 1.284   Mean   :0.4712  \n",
       " 3rd Qu.:55.00   3rd Qu.:1.000   3rd Qu.: 1.000   3rd Qu.:1.0000  \n",
       " Max.   :75.00   Max.   :4.000   Max.   :11.000   Max.   :1.0000  "
      ]
     },
     "metadata": {},
     "output_type": "display_data"
    }
   ],
   "source": [
    "summary(crash)"
   ]
  },
  {
   "cell_type": "code",
   "execution_count": 9,
   "metadata": {},
   "outputs": [
    {
     "name": "stderr",
     "output_type": "stream",
     "text": [
      "Warning message in simpleLoess(y, x, w, span, degree = degree, parametric = FALSE, :\n",
      "\"pseudoinverse used at 0.995\"Warning message in simpleLoess(y, x, w, span, degree = degree, parametric = FALSE, :\n",
      "\"neighborhood radius 1.005\"Warning message in simpleLoess(y, x, w, span, degree = degree, parametric = FALSE, :\n",
      "\"reciprocal condition number  5.5713e-015\"Warning message in simpleLoess(y, x, w, span, degree = degree, parametric = FALSE, :\n",
      "\"at  2.005\"Warning message in simpleLoess(y, x, w, span, degree = degree, parametric = FALSE, :\n",
      "\"radius  2.5e-005\"Warning message in simpleLoess(y, x, w, span, degree = degree, parametric = FALSE, :\n",
      "\"all data on boundary of neighborhood. make span bigger\"Warning message in simpleLoess(y, x, w, span, degree = degree, parametric = FALSE, :\n",
      "\"There are other near singularities as well. 2.5e-005\"Warning message in simpleLoess(y, x, w, span, degree = degree, parametric = FALSE, :\n",
      "\"zero-width neighborhood. make span bigger\"Warning message in simpleLoess(y, x, w, span, degree = degree, parametric = FALSE, :\n",
      "\"pseudoinverse used at 0.995\"Warning message in simpleLoess(y, x, w, span, degree = degree, parametric = FALSE, :\n",
      "\"neighborhood radius 1.005\"Warning message in simpleLoess(y, x, w, span, degree = degree, parametric = FALSE, :\n",
      "\"reciprocal condition number  4.8416e-015\"Warning message in simpleLoess(y, x, w, span, degree = degree, parametric = FALSE, :\n",
      "\"at  2.005\"Warning message in simpleLoess(y, x, w, span, degree = degree, parametric = FALSE, :\n",
      "\"radius  2.5e-005\"Warning message in simpleLoess(y, x, w, span, degree = degree, parametric = FALSE, :\n",
      "\"all data on boundary of neighborhood. make span bigger\"Warning message in simpleLoess(y, x, w, span, degree = degree, parametric = FALSE, :\n",
      "\"There are other near singularities as well. 2.5e-005\"Warning message in simpleLoess(y, x, w, span, degree = degree, parametric = FALSE, :\n",
      "\"zero-width neighborhood. make span bigger\"Warning message in simpleLoess(y, x, w, span, degree = degree, parametric = FALSE, :\n",
      "\"pseudoinverse used at 0.995\"Warning message in simpleLoess(y, x, w, span, degree = degree, parametric = FALSE, :\n",
      "\"neighborhood radius 1.005\"Warning message in simpleLoess(y, x, w, span, degree = degree, parametric = FALSE, :\n",
      "\"reciprocal condition number  4.7574e-015\"Warning message in simpleLoess(y, x, w, span, degree = degree, parametric = FALSE, :\n",
      "\"at  2.005\"Warning message in simpleLoess(y, x, w, span, degree = degree, parametric = FALSE, :\n",
      "\"radius  2.5e-005\"Warning message in simpleLoess(y, x, w, span, degree = degree, parametric = FALSE, :\n",
      "\"all data on boundary of neighborhood. make span bigger\"Warning message in simpleLoess(y, x, w, span, degree = degree, parametric = FALSE, :\n",
      "\"There are other near singularities as well. 2.5e-005\"Warning message in simpleLoess(y, x, w, span, degree = degree, parametric = FALSE, :\n",
      "\"zero-width neighborhood. make span bigger\"Warning message in simpleLoess(y, x, w, span, degree = degree, parametric = FALSE, :\n",
      "\"pseudoinverse used at 0.995\"Warning message in simpleLoess(y, x, w, span, degree = degree, parametric = FALSE, :\n",
      "\"neighborhood radius 1.005\"Warning message in simpleLoess(y, x, w, span, degree = degree, parametric = FALSE, :\n",
      "\"reciprocal condition number  1.3916e-015\"Warning message in simpleLoess(y, x, w, span, degree = degree, parametric = FALSE, :\n",
      "\"at  2.005\"Warning message in simpleLoess(y, x, w, span, degree = degree, parametric = FALSE, :\n",
      "\"radius  2.5e-005\"Warning message in simpleLoess(y, x, w, span, degree = degree, parametric = FALSE, :\n",
      "\"all data on boundary of neighborhood. make span bigger\"Warning message in simpleLoess(y, x, w, span, degree = degree, parametric = FALSE, :\n",
      "\"There are other near singularities as well. 2.5e-005\"Warning message in simpleLoess(y, x, w, span, degree = degree, parametric = FALSE, :\n",
      "\"zero-width neighborhood. make span bigger\"Warning message in simpleLoess(y, x, w, span, degree = degree, parametric = FALSE, :\n",
      "\"pseudoinverse used at 0.995\"Warning message in simpleLoess(y, x, w, span, degree = degree, parametric = FALSE, :\n",
      "\"neighborhood radius 1.005\"Warning message in simpleLoess(y, x, w, span, degree = degree, parametric = FALSE, :\n",
      "\"reciprocal condition number  5.5713e-015\"Warning message in simpleLoess(y, x, w, span, degree = degree, parametric = FALSE, :\n",
      "\"at  2.005\"Warning message in simpleLoess(y, x, w, span, degree = degree, parametric = FALSE, :\n",
      "\"radius  2.5e-005\"Warning message in simpleLoess(y, x, w, span, degree = degree, parametric = FALSE, :\n",
      "\"all data on boundary of neighborhood. make span bigger\"Warning message in simpleLoess(y, x, w, span, degree = degree, parametric = FALSE, :\n",
      "\"There are other near singularities as well. 2.5e-005\"Warning message in simpleLoess(y, x, w, span, degree = degree, parametric = FALSE, :\n",
      "\"zero-width neighborhood. make span bigger\""
     ]
    },
    {
     "data": {
      "image/png": "[encoded data removed]",
      "text/plain": [
       "plot without title"
      ]
     },
     "metadata": {},
     "output_type": "display_data",
     "source": "R display func"
    },
    {
     "data": {
      "image/png": "[encoded data removed]",
      "text/plain": [
       "plot without title"
      ]
     },
     "metadata": {},
     "output_type": "display_data",
     "source": "R display func"
    },
    {
     "data": {
      "image/png": "[encoded data removed]",
      "text/plain": [
       "plot without title"
      ]
     },
     "metadata": {},
     "output_type": "display_data",
     "source": "R display func"
    }
   ],
   "source": [
    "plot(crash$ALCOHOL,jitter(crash$SEVERITY,amount = .25))\n",
    "scatter.smooth(crash$ALCOHOL,crash$SEVERITY)\n",
    "scatter.smooth(crash$VSPD_LIM,crash$SEVERITY)"
   ]
  }
 ],
 "metadata": {
  "kernelspec": {
   "display_name": "R",
   "language": "R",
   "name": "ir"
  },
  "language_info": {
   "codemirror_mode": "r",
   "file_extension": ".r",
   "mimetype": "text/x-r-source",
   "name": "R",
   "pygments_lexer": "r",
   "version": "3.3.2"
  }
 },
 "nbformat": 4,
 "nbformat_minor": 2
}
