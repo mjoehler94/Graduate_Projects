{
 "cells": [
  {
   "cell_type": "markdown",
   "metadata": {},
   "source": [
    "## Letters Classification in Python"
   ]
  },
  {
   "cell_type": "code",
   "execution_count": 2,
   "metadata": {},
   "outputs": [
    {
     "name": "stderr",
     "output_type": "stream",
     "text": [
      "C:\\Users\\Matt\\Anaconda3\\lib\\site-packages\\ggplot\\utils.py:81: FutureWarning: pandas.tslib is deprecated and will be removed in a future version.\n",
      "You can access Timestamp as pandas.Timestamp\n",
      "  pd.tslib.Timestamp,\n",
      "C:\\Users\\Matt\\Anaconda3\\lib\\site-packages\\ggplot\\stats\\smoothers.py:4: FutureWarning: The pandas.lib module is deprecated and will be removed in a future version. These are private functions and can be accessed from pandas._libs.lib instead\n",
      "  from pandas.lib import Timestamp\n",
      "C:\\Users\\Matt\\Anaconda3\\lib\\site-packages\\statsmodels\\compat\\pandas.py:56: FutureWarning: The pandas.core.datetools module is deprecated and will be removed in a future version. Please use the pandas.tseries module instead.\n",
      "  from pandas.core import datetools\n"
     ]
    }
   ],
   "source": [
    "#import libraries\n",
    "import time\n",
    "\n",
    "import numpy as np\n",
    "import pandas as pd\n",
    "from ggplot import *\n",
    "from matplotlib import pyplot as plt\n",
    "%matplotlib inline\n",
    "import seaborn as sns\n",
    "import random as random\n",
    "\n",
    "from sklearn.ensemble import RandomForestClassifier\n",
    "from sklearn.svm import SVC\n",
    "from sklearn.model_selection import train_test_split\n",
    "from sklearn.model_selection import GridSearchCV"
   ]
  },
  {
   "cell_type": "code",
   "execution_count": 4,
   "metadata": {},
   "outputs": [
    {
     "data": {
      "text/html": [
       "<div>\n",
       "<style>\n",
       "    .dataframe thead tr:only-child th {\n",
       "        text-align: right;\n",
       "    }\n",
       "\n",
       "    .dataframe thead th {\n",
       "        text-align: left;\n",
       "    }\n",
       "\n",
       "    .dataframe tbody tr th {\n",
       "        vertical-align: top;\n",
       "    }\n",
       "</style>\n",
       "<table border=\"1\" class=\"dataframe\">\n",
       "  <thead>\n",
       "    <tr style=\"text-align: right;\">\n",
       "      <th></th>\n",
       "      <th>letter</th>\n",
       "      <th>xbox</th>\n",
       "      <th>ybox</th>\n",
       "      <th>width</th>\n",
       "      <th>high</th>\n",
       "      <th>pix</th>\n",
       "      <th>xbar</th>\n",
       "      <th>ybar</th>\n",
       "      <th>x2bar</th>\n",
       "      <th>y2bar</th>\n",
       "      <th>xybar</th>\n",
       "      <th>x2ybar</th>\n",
       "      <th>xy2bar</th>\n",
       "      <th>xege</th>\n",
       "      <th>xegevy</th>\n",
       "      <th>yege</th>\n",
       "      <th>yegvx</th>\n",
       "    </tr>\n",
       "  </thead>\n",
       "  <tbody>\n",
       "    <tr>\n",
       "      <th>0</th>\n",
       "      <td>I</td>\n",
       "      <td>5</td>\n",
       "      <td>12</td>\n",
       "      <td>3</td>\n",
       "      <td>7</td>\n",
       "      <td>2</td>\n",
       "      <td>10</td>\n",
       "      <td>5</td>\n",
       "      <td>5</td>\n",
       "      <td>4</td>\n",
       "      <td>13</td>\n",
       "      <td>3</td>\n",
       "      <td>9</td>\n",
       "      <td>2</td>\n",
       "      <td>8</td>\n",
       "      <td>4</td>\n",
       "      <td>10</td>\n",
       "    </tr>\n",
       "    <tr>\n",
       "      <th>1</th>\n",
       "      <td>D</td>\n",
       "      <td>4</td>\n",
       "      <td>11</td>\n",
       "      <td>6</td>\n",
       "      <td>8</td>\n",
       "      <td>6</td>\n",
       "      <td>10</td>\n",
       "      <td>6</td>\n",
       "      <td>2</td>\n",
       "      <td>6</td>\n",
       "      <td>10</td>\n",
       "      <td>3</td>\n",
       "      <td>7</td>\n",
       "      <td>3</td>\n",
       "      <td>7</td>\n",
       "      <td>3</td>\n",
       "      <td>9</td>\n",
       "    </tr>\n",
       "    <tr>\n",
       "      <th>2</th>\n",
       "      <td>N</td>\n",
       "      <td>7</td>\n",
       "      <td>11</td>\n",
       "      <td>6</td>\n",
       "      <td>6</td>\n",
       "      <td>3</td>\n",
       "      <td>5</td>\n",
       "      <td>9</td>\n",
       "      <td>4</td>\n",
       "      <td>6</td>\n",
       "      <td>4</td>\n",
       "      <td>4</td>\n",
       "      <td>10</td>\n",
       "      <td>6</td>\n",
       "      <td>10</td>\n",
       "      <td>2</td>\n",
       "      <td>8</td>\n",
       "    </tr>\n",
       "    <tr>\n",
       "      <th>3</th>\n",
       "      <td>G</td>\n",
       "      <td>2</td>\n",
       "      <td>1</td>\n",
       "      <td>3</td>\n",
       "      <td>1</td>\n",
       "      <td>1</td>\n",
       "      <td>8</td>\n",
       "      <td>6</td>\n",
       "      <td>6</td>\n",
       "      <td>6</td>\n",
       "      <td>6</td>\n",
       "      <td>5</td>\n",
       "      <td>9</td>\n",
       "      <td>1</td>\n",
       "      <td>7</td>\n",
       "      <td>5</td>\n",
       "      <td>10</td>\n",
       "    </tr>\n",
       "    <tr>\n",
       "      <th>4</th>\n",
       "      <td>S</td>\n",
       "      <td>4</td>\n",
       "      <td>11</td>\n",
       "      <td>5</td>\n",
       "      <td>8</td>\n",
       "      <td>3</td>\n",
       "      <td>8</td>\n",
       "      <td>8</td>\n",
       "      <td>6</td>\n",
       "      <td>9</td>\n",
       "      <td>5</td>\n",
       "      <td>6</td>\n",
       "      <td>6</td>\n",
       "      <td>0</td>\n",
       "      <td>8</td>\n",
       "      <td>9</td>\n",
       "      <td>7</td>\n",
       "    </tr>\n",
       "  </tbody>\n",
       "</table>\n",
       "</div>"
      ],
      "text/plain": [
       "  letter  xbox  ybox  width  high  pix  xbar  ybar  x2bar  y2bar  xybar  \\\n",
       "0      I     5    12      3     7    2    10     5      5      4     13   \n",
       "1      D     4    11      6     8    6    10     6      2      6     10   \n",
       "2      N     7    11      6     6    3     5     9      4      6      4   \n",
       "3      G     2     1      3     1    1     8     6      6      6      6   \n",
       "4      S     4    11      5     8    3     8     8      6      9      5   \n",
       "\n",
       "   x2ybar  xy2bar  xege  xegevy  yege  yegvx  \n",
       "0       3       9     2       8     4     10  \n",
       "1       3       7     3       7     3      9  \n",
       "2       4      10     6      10     2      8  \n",
       "3       5       9     1       7     5     10  \n",
       "4       6       6     0       8     9      7  "
      ]
     },
     "execution_count": 4,
     "metadata": {},
     "output_type": "execute_result"
    }
   ],
   "source": [
    "#read in the data\n",
    "# data = pd.read_csv('https://mheaton.byu.edu/Courses/Stat536/Case%20Studies/LetterRecognition/Data/letter-recognition.txt')\n",
    "data = pd.read_csv('../letters.txt')\n",
    "data.head()\n"
   ]
  },
  {
   "cell_type": "code",
   "execution_count": 3,
   "metadata": {
    "collapsed": true
   },
   "outputs": [],
   "source": [
    "#print(data.describe())"
   ]
  },
  {
   "cell_type": "code",
   "execution_count": 4,
   "metadata": {
    "collapsed": true
   },
   "outputs": [],
   "source": [
    "#data.info()"
   ]
  },
  {
   "cell_type": "code",
   "execution_count": 5,
   "metadata": {},
   "outputs": [
    {
     "data": {
      "image/png": "[encoded data removed]",
      "text/plain": [
       "<matplotlib.figure.Figure at 0x1c4316d79e8>"
      ]
     },
     "metadata": {},
     "output_type": "display_data"
    },
    {
     "data": {
      "text/plain": [
       "<ggplot: (-9223371915470121002)>"
      ]
     },
     "execution_count": 5,
     "metadata": {},
     "output_type": "execute_result"
    }
   ],
   "source": [
    "ggplot(aes(x='letter', y='yege'),data=data)+geom_boxplot()"
   ]
  },
  {
   "cell_type": "code",
   "execution_count": 6,
   "metadata": {},
   "outputs": [
    {
     "data": {
      "image/png": "[encoded data removed]",
      "text/plain": [
       "<matplotlib.figure.Figure at 0x1c431a00588>"
      ]
     },
     "metadata": {},
     "output_type": "display_data"
    }
   ],
   "source": [
    "#quick summary statistics and plots\n",
    "# letters.boxplot('letter',by='xbox')\n",
    "# plt.show()\n",
    "\n",
    "sns.boxplot(y='xbar',x='letter',data=data)\n",
    "plt.show()\n",
    "# sns.boxplot(y='x2bar',x='letter',data=data)\n",
    "# plt.show()\n",
    "# sns.despine()\n"
   ]
  },
  {
   "cell_type": "code",
   "execution_count": 7,
   "metadata": {
    "collapsed": true
   },
   "outputs": [],
   "source": [
    "# list(data.columns)"
   ]
  },
  {
   "cell_type": "code",
   "execution_count": 8,
   "metadata": {
    "collapsed": true
   },
   "outputs": [],
   "source": [
    " #sns.pairplot(data)"
   ]
  },
  {
   "cell_type": "code",
   "execution_count": 7,
   "metadata": {
    "collapsed": true
   },
   "outputs": [],
   "source": [
    "#make test and train set for model\n",
    "X = data.drop('letter',axis=1)\n",
    "# X.head()\n",
    "y = data.letter\n",
    "\n",
    "X_train,X_test,y_train,y_test = train_test_split(X,y,test_size=0.25, random_state=123)\n"
   ]
  },
  {
   "cell_type": "code",
   "execution_count": 8,
   "metadata": {
    "collapsed": true
   },
   "outputs": [],
   "source": [
    "#fit the model\n",
    "def my_model_train(model,X_tr,y_tr,X_tst,y_tst):\n",
    "    train_start = time.time()\n",
    "    model.fit(X_tr,y_tr)\n",
    "    train_end = time.time()\n",
    "    print('Training time:', train_end-train_start)\n",
    "#     benchmark = sum(y)/len(y) #should work if y is a vector of 0s and 1s\n",
    "    score = model.score(X_tst, y_tst)\n",
    "    print('Score:',score)  \n",
    "#     print('Benchmark:',  benchmark,'\\n')"
   ]
  },
  {
   "cell_type": "code",
   "execution_count": 9,
   "metadata": {
    "collapsed": true
   },
   "outputs": [],
   "source": [
    "#different models\n",
    "mod_RF = RandomForestClassifier(n_estimators=1000, max_features=5)\n",
    "mod_SVM = SVC()\n"
   ]
  },
  {
   "cell_type": "code",
   "execution_count": null,
   "metadata": {
    "collapsed": true
   },
   "outputs": [],
   "source": []
  },
  {
   "cell_type": "code",
   "execution_count": 12,
   "metadata": {},
   "outputs": [
    {
     "name": "stdout",
     "output_type": "stream",
     "text": [
      "Training time: 41.774861097335815\n",
      "Score: 0.9696\n"
     ]
    }
   ],
   "source": [
    "my_model_train(mod_RF,X_train,y_train,X_test,y_test)"
   ]
  },
  {
   "cell_type": "code",
   "execution_count": 10,
   "metadata": {},
   "outputs": [
    {
     "name": "stdout",
     "output_type": "stream",
     "text": [
      "Training time: 8.660697937011719\n",
      "Score: 0.9712\n"
     ]
    }
   ],
   "source": [
    "my_model_train(mod_SVM,X_train,y_train,X_test,y_test)"
   ]
  },
  {
   "cell_type": "code",
   "execution_count": 11,
   "metadata": {},
   "outputs": [],
   "source": [
    "##Parameters to tune random forest\n",
    "numTrees=[10, 100, 1000, 2000]\n",
    "maxParms=[3,5,7,10]\n",
    "criterion=['gini', 'entropy']\n",
    "\n",
    "\n",
    "param_dict = dict(n_estimators=numTrees, max_features=maxParms, criterion=criterion)\n",
    "model=mod_RF\n",
    "\n",
    "#grid=GridSearchCV(cv=None, estimator=model, param_grid=param_dict)\n",
    "start = time.time()\n",
    "#grid.fit(X,y)\n",
    "end = time.time()\n",
    "runtime = end-start\n",
    "print('Minutes:',runtime/60)"
   ]
  },
  {
   "cell_type": "markdown",
   "metadata": {},
   "source": [
    "Out of the box, it appears that SVM is better. Let's do a grid search of parameters to optimize this model."
   ]
  },
  {
   "cell_type": "code",
   "execution_count": 12,
   "metadata": {},
   "outputs": [
    {
     "name": "stdout",
     "output_type": "stream",
     "text": [
      "Minutes: 11.069705843925476\n"
     ]
    }
   ],
   "source": [
    "#parameters to tune\n",
    "k_list = ['rbf','linear']#,'poly']#,'sigmoid']#,'precomputed']\n",
    "gam_list = ['auto',0.01,0.1,.5]#,1,10]\n",
    "# c_list = [8,9,10,11,12,13]#,10,50]\n",
    "c_list = [1,5,11]#,10,50]\n",
    "\n",
    "# deg_list = [1,2,3,4]#,5]\n",
    "\n",
    "#all together\n",
    "param_dict = dict(kernel=k_list,gamma=gam_list,C = c_list)#,degree=deg_list) \n",
    "\n",
    "\n",
    "#model\n",
    "model = mod_SVM\n",
    "# model = mod_RF\n",
    "\n",
    "grid = GridSearchCV(cv=2,estimator=model, param_grid=param_dict)\n",
    "start = time.time()\n",
    "grid.fit(X,y)\n",
    "end = time.time()\n",
    "runtime = end-start\n",
    "print('Minutes:',runtime/60)"
   ]
  },
  {
   "cell_type": "code",
   "execution_count": 13,
   "metadata": {},
   "outputs": [
    {
     "name": "stdout",
     "output_type": "stream",
     "text": [
      "Best Score: 0.9659982999149958\n",
      "Best Params: {'C': 11, 'gamma': 'auto', 'kernel': 'rbf'}\n"
     ]
    }
   ],
   "source": [
    "\n",
    "print(\"Best Score:\",grid.best_score_)\n",
    "# print(\"Kernel:\",grid.best_estimator_.kernel)\n",
    "# print(\"Gamma:\",grid.best_estimator_.gamma)\n",
    "# print(\"C:\",grid.best_estimator_.C)\n",
    "print('Best Params:',grid.best_params_)\n"
   ]
  },
  {
   "cell_type": "code",
   "execution_count": 14,
   "metadata": {},
   "outputs": [
    {
     "name": "stdout",
     "output_type": "stream",
     "text": [
      "Training time: 9.052967548370361\n",
      "Score: 0.9786\n"
     ]
    }
   ],
   "source": [
    "temp_mod = SVC(gamma='auto',C=11,kernel='rbf')\n",
    "my_model_train(temp_mod,X_train,y_train,X_test,y_test)"
   ]
  },
  {
   "cell_type": "code",
   "execution_count": null,
   "metadata": {
    "collapsed": true
   },
   "outputs": [],
   "source": [
    "#notes of best models\n",
    "# Best Score: 0.9742987149357468\n",
    "# Best Params: {'gamma': 'auto', 'kernel': 'rbf', 'C': 5}"
   ]
  },
  {
   "cell_type": "code",
   "execution_count": 22,
   "metadata": {
    "collapsed": true
   },
   "outputs": [],
   "source": [
    "# make a confusion matrix and plot it (if possible)\n",
    "from sklearn.metrics import confusion_matrix\n",
    "import itertools\n"
   ]
  },
  {
   "cell_type": "code",
   "execution_count": 23,
   "metadata": {},
   "outputs": [
    {
     "data": {
      "text/plain": [
       "<bound method NDFrame.head of       letter  xbox  ybox  width  high  pix  xbar  ybar  x2bar  y2bar  xybar  \\\n",
       "0          I     5    12      3     7    2    10     5      5      4     13   \n",
       "1          D     4    11      6     8    6    10     6      2      6     10   \n",
       "2          N     7    11      6     6    3     5     9      4      6      4   \n",
       "3          G     2     1      3     1    1     8     6      6      6      6   \n",
       "4          S     4    11      5     8    3     8     8      6      9      5   \n",
       "5          B     4     2      5     4    4     8     7      6      6      7   \n",
       "6          A     1     1      3     2    1     8     2      2      2      8   \n",
       "7          J     2     2      4     4    2    10     6      2      6     12   \n",
       "8          M    11    15     13     9    7    13     2      6      2     12   \n",
       "9          X     3     9      5     7    4     8     7      3      8      5   \n",
       "10         O     6    13      4     7    4     6     7      6      3     10   \n",
       "11         G     4     9      6     7    6     7     8      6      2      6   \n",
       "12         M     6     9      8     6    9     7     8      6      5      7   \n",
       "13         R     5     9      5     7    6     6    11      7      3      7   \n",
       "14         F     6     9      5     4    3    10     6      3      5     10   \n",
       "15         O     3     4      4     3    2     8     7      7      5      7   \n",
       "16         C     7    10      5     5    2     6     8      6      8     11   \n",
       "17         T     6    11      6     8    5     6    11      5      6     11   \n",
       "18         J     2     2      3     3    1    10     6      3      6     12   \n",
       "19         J     1     3      2     2    1     8     8      2      5     14   \n",
       "20         H     4     5      5     4    4     7     7      6      6      7   \n",
       "21         S     3     2      3     3    2     8     8      7      5      7   \n",
       "22         O     6    11      7     8    5     7     6      9      6      7   \n",
       "23         J     3     6      4     4    2     6     6      4      4     14   \n",
       "24         C     6    11      7     8    3     7     8      7     11      4   \n",
       "25         M     7    11     11     8    9     3     8      4      5     10   \n",
       "26         W    12    14     12     8    5     9    10      4      3      5   \n",
       "27         H     6     9      8     7    6     8     6      6      7      7   \n",
       "28         G     3     6      4     4    2     6     6      5      5      6   \n",
       "29         L     2     3      3     4    1     0     1      5      6      0   \n",
       "...      ...   ...   ...    ...   ...  ...   ...   ...    ...    ...    ...   \n",
       "19969      F     7    10      9     8    7     9     7      2      6     12   \n",
       "19970      C     5    10      7     9    8     5     6      4      4      7   \n",
       "19971      V     4     7      6     5    6     8     6      4      2      7   \n",
       "19972      T     4     4      5     3    2     5    12      2      8     11   \n",
       "19973      N     5     9      5     4    2     9    11      5      3      5   \n",
       "19974      E     1     0      1     0    0     5     8      5      7      7   \n",
       "19975      L     3     8      3     6    2     0     2      4      6      1   \n",
       "19976      A     3     9      5     6    2     6     5      3      1      6   \n",
       "19977      K     5    11      5     8    5     3     8      7      3      6   \n",
       "19978      M     6     9     10     7   12     7     5      3      2      7   \n",
       "19979      R     2     3      3     2    2     7     7      5      5      7   \n",
       "19980      S     6    12      6     7    3     6     8      3      6     13   \n",
       "19981      Y     3     9      5     6    3     7     9      1      6      6   \n",
       "19982      V     7    10      5     5    2     6    11      5      4     11   \n",
       "19983      S     2     0      2     1    1     8     7      4      6      5   \n",
       "19984      M     5     6      8     4    5     9     6      2      4      9   \n",
       "19985      O     9    15      6     8    5     5     7      7      4     10   \n",
       "19986      L     3     7      3     5    1     0     1      6      6      0   \n",
       "19987      D     6     9      8     8    8     7     6      5      7      7   \n",
       "19988      P     2     1      3     2    1     4    10      3      5     10   \n",
       "19989      W     3     8      5     6    5    11    11      2      2      5   \n",
       "19990      O     4     3      5     4    2     7     6      8      8      6   \n",
       "19991      E     4     9      5     6    3     5     9      2     10     10   \n",
       "19992      J     2    11      3     8    2    15     4      4      5     13   \n",
       "19993      T     5     8      7     7    7     7     9      4      8      7   \n",
       "19994      D     2     2      3     3    2     7     7      7      6      6   \n",
       "19995      C     7    10      8     8    4     4     8      6      9     12   \n",
       "19996      T     6     9      6     7    5     6    11      3      7     11   \n",
       "19997      S     2     3      4     2    1     8     7      2      6     10   \n",
       "19998      A     4     9      6     6    2     9     5      3      1      8   \n",
       "\n",
       "       x2ybar  xy2bar  xege  xegevy  yege  yegvx  rand pred  \n",
       "0           3       9     2       8     4     10     5    A  \n",
       "1           3       7     3       7     3      9     1    A  \n",
       "2           4      10     6      10     2      8     2    A  \n",
       "3           5       9     1       7     5     10     4    A  \n",
       "4           6       6     0       8     9      7     3    A  \n",
       "5           6       6     2       8     7     10     4    A  \n",
       "6           2       8     1       6     2      7     2    A  \n",
       "7           4       8     1       6     1      7     4    A  \n",
       "8           1       9     8       1     1      8     4    A  \n",
       "9           6       8     2       8     6      7     5    A  \n",
       "10          7       9     5       9     5      8     4    A  \n",
       "11          5      11     4       8     7      8     4    A  \n",
       "12          5       8     8       9     8      6     1    A  \n",
       "13          3       9     2       7     5     11     1    A  \n",
       "14          5       7     3       9     6      9     2    A  \n",
       "15          6       8     2       8     3      8     1    A  \n",
       "16          7      11     2       8     5      9     1    A  \n",
       "17          9       4     3      12     2      4     1    A  \n",
       "18          4       9     0       7     1      7     3    A  \n",
       "19          5       8     0       7     0      7     1    A  \n",
       "20          6       8     3       8     3      8     5    A  \n",
       "21          5       7     2       8     9      8     4    A  \n",
       "22          5       9     4       8     5      5     1    A  \n",
       "23          8      12     1       6     1      6     5    A  \n",
       "24          7      14     1       7     4      8     2    A  \n",
       "25         11      10    10       9     5      7     3    A  \n",
       "26         10       7    10      12     2      6     4    A  \n",
       "27          7       9     6       8     4      8     3    A  \n",
       "28          6       9     2       8     4      8     1    A  \n",
       "29          0       6     0       8     0      8     2    A  \n",
       "...       ...     ...   ...     ...   ...    ...   ...  ...  \n",
       "19969       4       6     5       9     4      9     3    A  \n",
       "19970       6      11     5      11     8     10     4    A  \n",
       "19971       8       8     7       9     4      6     2    A  \n",
       "19972       9       4     0      10     2      4     4    A  \n",
       "19973       6       9     5      11     2      6     1    A  \n",
       "19974       6      12     0       8     6     10     5    A  \n",
       "19975       0       8     0       8     0      8     1    A  \n",
       "19976       1       8     2       7     2      7     5    A  \n",
       "19977       4      11     3       8     2     11     2    A  \n",
       "19978       5       8    15       7     4      6     4    A  \n",
       "19979       5       6     2       7     4      8     1    A  \n",
       "19980       7       7     2       9     3      7     1    A  \n",
       "19981      11       8     2      11     2      7     1    A  \n",
       "19982       9       4     4      11     3     10     5    A  \n",
       "19983       6       8     0       8     7      8     5    A  \n",
       "19984       5       7     8       6     2      8     2    A  \n",
       "19985       7      10     5       9     5      8     5    A  \n",
       "19986       0       6     0       8     0      8     1    A  \n",
       "19987       5       9     6       5    10      3     2    A  \n",
       "19988       8       5     0       9     3      7     1    A  \n",
       "19989       8       7     7      12     1      7     4    A  \n",
       "19990       5       7     3       8     4      8     5    A  \n",
       "19991       8       9     2       8     5      5     4    A  \n",
       "19992       1       8     0       7     0      8     3    A  \n",
       "19993       7       8     3      10     8      6     3    A  \n",
       "19994       6       4     2       8     3      7     3    A  \n",
       "19995       9      13     2       9     3      7     2    A  \n",
       "19996       9       5     2      12     2      4     1    A  \n",
       "19997       6       8     1       9     5      8     3    A  \n",
       "19998       1       8     2       7     2      8     1    A  \n",
       "\n",
       "[19999 rows x 19 columns]>"
      ]
     },
     "execution_count": 23,
     "metadata": {},
     "output_type": "execute_result"
    }
   ],
   "source": [
    "data['rand']=np.random.choice([1, 2, 3, 4, 5],  19999) \n",
    "data.loc[:,'pred']=\"A\"\n",
    "data.head"
   ]
  },
  {
   "cell_type": "markdown",
   "metadata": {},
   "source": [
    "Run 5-fold cross validation"
   ]
  },
  {
   "cell_type": "code",
   "execution_count": 24,
   "metadata": {},
   "outputs": [
    {
     "name": "stdout",
     "output_type": "stream",
     "text": [
      "1\n",
      "Training time: 10.085658311843872\n",
      "Score: 0.9773767158108795\n",
      "2\n",
      "Training time: 10.487176179885864\n",
      "Score: 0.9715293524817334\n",
      "3\n",
      "Training time: 10.005078315734863\n",
      "Score: 0.9792848335388409\n",
      "4\n",
      "Training time: 9.942544937133789\n",
      "Score: 0.976720901126408\n",
      "5\n",
      "Training time: 10.077542304992676\n",
      "Score: 0.9794859120118635\n"
     ]
    }
   ],
   "source": [
    "#best model\n",
    "\n",
    "for i in range(1,6):\n",
    "    print(i)\n",
    "    X_test=data.loc[data.rand==i, 'xbox':'yegvx']   #X_tr.head\n",
    "    X_train=data.loc[data.rand!=i, 'xbox':'yegvx']\n",
    "    y_train=data.loc[data.rand!=i, 'letter']\n",
    "    y_test = data.loc[data.rand==i, 'letter']\n",
    "    model_best = SVC(gamma = 'auto', kernel = 'rbf', C = 11)\n",
    "    my_model_train(model_best,X_tr=X_train,y_tr=y_train,X_tst=X_test,y_tst=y_test)\n",
    "    y_pred = model_best.predict(X_test)\n",
    "    data.loc[data.rand==i, 'pred']=y_pred\n",
    "#compute matrix\n",
    "#y_pred = model_best.predict(X_test)\n",
    "#cnf_matrix = confusion_matrix(y_test,y_pred)\n",
    "\n",
    "# print(y_pred)\n",
    "# print(y_test)\n",
    "# print(np.sum(y_pred == y_test))\n",
    "# print(cnf_matrix)"
   ]
  },
  {
   "cell_type": "code",
   "execution_count": 25,
   "metadata": {},
   "outputs": [],
   "source": [
    "data=data.sort_values(by=\"letter\")\n",
    "cnf_matrix = confusion_matrix(data.loc[:,'letter'],data.loc[:,'pred'])\n"
   ]
  },
  {
   "cell_type": "code",
   "execution_count": 26,
   "metadata": {},
   "outputs": [
    {
     "name": "stdout",
     "output_type": "stream",
     "text": [
      "0.9768988449422471\n"
     ]
    },
    {
     "data": {
      "text/html": [
       "<div>\n",
       "<style>\n",
       "    .dataframe thead tr:only-child th {\n",
       "        text-align: right;\n",
       "    }\n",
       "\n",
       "    .dataframe thead th {\n",
       "        text-align: left;\n",
       "    }\n",
       "\n",
       "    .dataframe tbody tr th {\n",
       "        vertical-align: top;\n",
       "    }\n",
       "</style>\n",
       "<table border=\"1\" class=\"dataframe\">\n",
       "  <thead>\n",
       "    <tr style=\"text-align: right;\">\n",
       "      <th></th>\n",
       "      <th>Accuracy</th>\n",
       "      <th>Letter</th>\n",
       "    </tr>\n",
       "  </thead>\n",
       "  <tbody>\n",
       "    <tr>\n",
       "      <th>0</th>\n",
       "      <td>0.996198</td>\n",
       "      <td>A</td>\n",
       "    </tr>\n",
       "    <tr>\n",
       "      <th>22</th>\n",
       "      <td>0.993351</td>\n",
       "      <td>W</td>\n",
       "    </tr>\n",
       "    <tr>\n",
       "      <th>18</th>\n",
       "      <td>0.993316</td>\n",
       "      <td>S</td>\n",
       "    </tr>\n",
       "    <tr>\n",
       "      <th>20</th>\n",
       "      <td>0.991390</td>\n",
       "      <td>U</td>\n",
       "    </tr>\n",
       "    <tr>\n",
       "      <th>12</th>\n",
       "      <td>0.991162</td>\n",
       "      <td>M</td>\n",
       "    </tr>\n",
       "    <tr>\n",
       "      <th>25</th>\n",
       "      <td>0.990463</td>\n",
       "      <td>Z</td>\n",
       "    </tr>\n",
       "    <tr>\n",
       "      <th>16</th>\n",
       "      <td>0.988506</td>\n",
       "      <td>Q</td>\n",
       "    </tr>\n",
       "    <tr>\n",
       "      <th>23</th>\n",
       "      <td>0.986023</td>\n",
       "      <td>X</td>\n",
       "    </tr>\n",
       "    <tr>\n",
       "      <th>24</th>\n",
       "      <td>0.986005</td>\n",
       "      <td>Y</td>\n",
       "    </tr>\n",
       "    <tr>\n",
       "      <th>19</th>\n",
       "      <td>0.984906</td>\n",
       "      <td>T</td>\n",
       "    </tr>\n",
       "    <tr>\n",
       "      <th>14</th>\n",
       "      <td>0.981408</td>\n",
       "      <td>O</td>\n",
       "    </tr>\n",
       "    <tr>\n",
       "      <th>2</th>\n",
       "      <td>0.980978</td>\n",
       "      <td>C</td>\n",
       "    </tr>\n",
       "    <tr>\n",
       "      <th>13</th>\n",
       "      <td>0.979566</td>\n",
       "      <td>N</td>\n",
       "    </tr>\n",
       "    <tr>\n",
       "      <th>11</th>\n",
       "      <td>0.978975</td>\n",
       "      <td>L</td>\n",
       "    </tr>\n",
       "    <tr>\n",
       "      <th>3</th>\n",
       "      <td>0.978882</td>\n",
       "      <td>D</td>\n",
       "    </tr>\n",
       "    <tr>\n",
       "      <th>21</th>\n",
       "      <td>0.977749</td>\n",
       "      <td>V</td>\n",
       "    </tr>\n",
       "    <tr>\n",
       "      <th>6</th>\n",
       "      <td>0.976714</td>\n",
       "      <td>G</td>\n",
       "    </tr>\n",
       "    <tr>\n",
       "      <th>5</th>\n",
       "      <td>0.974194</td>\n",
       "      <td>F</td>\n",
       "    </tr>\n",
       "    <tr>\n",
       "      <th>4</th>\n",
       "      <td>0.970052</td>\n",
       "      <td>E</td>\n",
       "    </tr>\n",
       "    <tr>\n",
       "      <th>1</th>\n",
       "      <td>0.969974</td>\n",
       "      <td>B</td>\n",
       "    </tr>\n",
       "    <tr>\n",
       "      <th>15</th>\n",
       "      <td>0.966376</td>\n",
       "      <td>P</td>\n",
       "    </tr>\n",
       "    <tr>\n",
       "      <th>8</th>\n",
       "      <td>0.964238</td>\n",
       "      <td>I</td>\n",
       "    </tr>\n",
       "    <tr>\n",
       "      <th>10</th>\n",
       "      <td>0.959405</td>\n",
       "      <td>K</td>\n",
       "    </tr>\n",
       "    <tr>\n",
       "      <th>9</th>\n",
       "      <td>0.955823</td>\n",
       "      <td>J</td>\n",
       "    </tr>\n",
       "    <tr>\n",
       "      <th>17</th>\n",
       "      <td>0.951187</td>\n",
       "      <td>R</td>\n",
       "    </tr>\n",
       "    <tr>\n",
       "      <th>7</th>\n",
       "      <td>0.927793</td>\n",
       "      <td>H</td>\n",
       "    </tr>\n",
       "  </tbody>\n",
       "</table>\n",
       "</div>"
      ],
      "text/plain": [
       "    Accuracy Letter\n",
       "0   0.996198      A\n",
       "22  0.993351      W\n",
       "18  0.993316      S\n",
       "20  0.991390      U\n",
       "12  0.991162      M\n",
       "25  0.990463      Z\n",
       "16  0.988506      Q\n",
       "23  0.986023      X\n",
       "24  0.986005      Y\n",
       "19  0.984906      T\n",
       "14  0.981408      O\n",
       "2   0.980978      C\n",
       "13  0.979566      N\n",
       "11  0.978975      L\n",
       "3   0.978882      D\n",
       "21  0.977749      V\n",
       "6   0.976714      G\n",
       "5   0.974194      F\n",
       "4   0.970052      E\n",
       "1   0.969974      B\n",
       "15  0.966376      P\n",
       "8   0.964238      I\n",
       "10  0.959405      K\n",
       "9   0.955823      J\n",
       "17  0.951187      R\n",
       "7   0.927793      H"
      ]
     },
     "execution_count": 26,
     "metadata": {},
     "output_type": "execute_result"
    }
   ],
   "source": [
    "print(np.mean(data.letter==data.pred)) #overall accuracy\n",
    "letters=list(string.ascii_uppercase)\n",
    "pd.DataFrame({\"Letter\":letters, \"Accuracy\":np.diag(cnf_matrix)/np.sum(cnf_matrix, axis=1)}).sort_values(by=\"Accuracy\", ascending=False) ##Accuracy by letter"
   ]
  },
  {
   "cell_type": "code",
   "execution_count": 27,
   "metadata": {
    "collapsed": true
   },
   "outputs": [],
   "source": [
    "def plot_confusion_matrix(cm, classes,\n",
    "                          normalize=False,\n",
    "                          title='Confusion matrix',\n",
    "                          cmap=plt.cm.Blues):\n",
    "    \"\"\"\n",
    "    This function prints and plots the confusion matrix.\n",
    "    Normalization can be applied by setting `normalize=True`.\n",
    "    \"\"\"\n",
    "    if normalize:\n",
    "        cm = cm.astype('float') / cm.sum(axis=1)[:, np.newaxis]\n",
    "        print(\"Normalized confusion matrix\")\n",
    "    else:\n",
    "        print('Confusion matrix, without normalization')\n",
    "\n",
    "#     print(cm)\n",
    "\n",
    "    plt.imshow(cm, interpolation='nearest', cmap=cmap)\n",
    "    plt.title(title)\n",
    "    plt.colorbar()\n",
    "    tick_marks = np.arange(len(classes))\n",
    "    plt.xticks(tick_marks, classes, rotation=45)\n",
    "    plt.yticks(tick_marks, classes)\n",
    "\n",
    "    fmt = '.2f' if normalize else 'd'\n",
    "    thresh = cm.max() / 2.\n",
    "    for i, j in itertools.product(range(cm.shape[0]), range(cm.shape[1])):\n",
    "        plt.text(j, i, format(cm[i, j], fmt),\n",
    "                 horizontalalignment=\"center\",\n",
    "                 color=\"white\" if cm[i, j] > thresh else \"black\")\n",
    "\n",
    "    plt.tight_layout()\n",
    "    plt.ylabel('True label')\n",
    "    plt.xlabel('Predicted label')"
   ]
  },
  {
   "cell_type": "code",
   "execution_count": 28,
   "metadata": {},
   "outputs": [
    {
     "name": "stdout",
     "output_type": "stream",
     "text": [
      "Confusion matrix, without normalization\n"
     ]
    },
    {
     "data": {
      "image/png": "[encoded data removed]",
      "text/plain": [
       "<matplotlib.figure.Figure at 0x1c4320cd978>"
      ]
     },
     "metadata": {},
     "output_type": "display_data"
    }
   ],
   "source": [
    "#plot non_normalized confusion Matrix\n",
    "# class_names = ['Bad','Good']\n",
    "import string\n",
    "class_names = list(string.ascii_uppercase)\n",
    "\n",
    "plt.figure(figsize=(16, 12))\n",
    "plot_confusion_matrix(cnf_matrix, classes=class_names,\n",
    "                      title='Confusion matrix, without normalization')\n",
    "# plt.savefig('../overleaf/confmatrix.png')\n",
    "plt.show()"
   ]
  },
  {
   "cell_type": "code",
   "execution_count": null,
   "metadata": {
    "collapsed": true
   },
   "outputs": [],
   "source": [
    "# list(range(1,27))"
   ]
  },
  {
   "cell_type": "code",
   "execution_count": null,
   "metadata": {
    "collapsed": true
   },
   "outputs": [],
   "source": [
    "# list(string.ascii_lowercase)"
   ]
  },
  {
   "cell_type": "markdown",
   "metadata": {},
   "source": [
    "### Make an example visualization of an SVM\n",
    "- split off the letters a,b,c, and d and classify those with xbar and ybar"
   ]
  },
  {
   "cell_type": "code",
   "execution_count": null,
   "metadata": {
    "collapsed": true
   },
   "outputs": [],
   "source": [
    "#make modified dataset\n",
    "# mini_dat = data\n",
    "# print(data.head(5))\n",
    "# data.iloc[0,0:3]\n",
    "mini_data = data[data['letter'].isin(['A','B','C'])][['letter','xbar','ybar']]#,['letter','xbar','ybar']]\n",
    "# mini_data = mini_data[['letter','xbar','ybar']]\n",
    "mini_data.head()"
   ]
  },
  {
   "cell_type": "code",
   "execution_count": null,
   "metadata": {
    "collapsed": true
   },
   "outputs": [],
   "source": [
    "mini_data.info()\n",
    "mini_data.letter.describe()"
   ]
  },
  {
   "cell_type": "code",
   "execution_count": null,
   "metadata": {
    "collapsed": true
   },
   "outputs": [],
   "source": []
  },
  {
   "cell_type": "code",
   "execution_count": null,
   "metadata": {
    "collapsed": true
   },
   "outputs": [],
   "source": [
    "#plot the decision region\n",
    "from matplotlib.colors import ListedColormap\n",
    "\n",
    "def plot_decision_regions(X,y,classifier,test_idx = None, resolution = 0.02):\n",
    "    #setup marker generator and color map\n",
    "    markers = ['s','x','o','v','^']\n",
    "    colors = ('red','blue','lightgreen','gray','cyan')\n",
    "    cmap = ListedColormap(colors[:len(np.unique(y))])\n",
    "    \n",
    "    #plot the decision surface\n",
    "    x1_min,x1_max = X[:,0].min() - 1, X[:,0].max() + 1 #sepal length\n",
    "    x2_min,x2_max = X[:,1].min() - 1, X[:,1].max() + 1 #petal length\n",
    "    \n",
    "    xx1, xx2 = np.meshgrid(np.arange(x1_min,x1_max,resolution),np.arange(x2_min,x2_max,resolution))\n",
    "    \n",
    "    Z = classifier.predict(np.array([xx1.ravel(),xx2.ravel()]).T)\n",
    "    Z = Z.reshape(xx1.shape)\n",
    "    \n",
    "    plt.contourf(xx1,xx2,Z,alpha = 0.4,cmap = cmap)\n",
    "    plt.xlim(xx1.min(), xx1.max())\n",
    "    plt.ylim(xx2.min(), xx2.max())\n",
    "    \n",
    "    #plot all samples\n",
    "    for idx, cl in enumerate(np.unique(y)):\n",
    "        plt.scatter(x = X[y==cl,0],y = X[y==cl,1],alpha = 0.8,c=cmap(idx),marker = markers[idx],label = cl)\n",
    "      "
   ]
  },
  {
   "cell_type": "code",
   "execution_count": null,
   "metadata": {
    "collapsed": true
   },
   "outputs": [],
   "source": [
    "#set up a mini svm for visualization\n",
    "predictors = mini_data.drop('letter',axis=1)\n",
    "temp = mini_data.letter\n",
    "empt = []\n",
    "# print(temp)\n",
    "for i in temp:\n",
    "#     \n",
    "    if i == 'A':\n",
    "        i = 0\n",
    "    elif i == 'B':\n",
    "        i = 1\n",
    "    else: \n",
    "        i = 2\n",
    "    empt.append(i)    \n",
    "target = empt\n",
    "target[:20]"
   ]
  },
  {
   "cell_type": "code",
   "execution_count": null,
   "metadata": {
    "collapsed": true
   },
   "outputs": [],
   "source": [
    "#mini model\n",
    "p1,p2,t1,t2 = train_test_split(predictors,target,test_size=0.25, random_state=123)\n",
    "my_model_train(mod_SVM,p1,t1,p2,t2)\n",
    "mini_mod = SVC().fit(predictors,target)"
   ]
  },
  {
   "cell_type": "code",
   "execution_count": null,
   "metadata": {
    "collapsed": true,
    "scrolled": true
   },
   "outputs": [],
   "source": [
    "# plot_decision_regions(X = np.array(predictors), y = np.array(target), classifier=model_best)\n",
    "plot_decision_regions(X = np.array(predictors), y = np.array(target), classifier=mini_mod)\n",
    "plt.xlabel('xbar')\n",
    "plt.ylabel('ybar')\n",
    "plt.legend( loc = 'upper right')\n",
    "L=plt.legend()\n",
    "L.get_texts()[0].set_text('A')\n",
    "L.get_texts()[1].set_text('B')\n",
    "L.get_texts()[2].set_text('C')\n",
    "plt.savefig('DemoSVM.pdf')\n",
    "\n",
    "plt.show()\n",
    "\n"
   ]
  },
  {
   "cell_type": "code",
   "execution_count": 29,
   "metadata": {},
   "outputs": [
    {
     "data": {
      "text/plain": [
       "array([[786,   0,   0,   0,   0,   0,   0,   0,   0,   0,   1,   0,   0,\n",
       "          0,   0,   0,   0,   0,   0,   0,   0,   0,   0,   0,   2,   0],\n",
       "       [  0, 743,   0,   2,   2,   0,   1,   3,   0,   0,   1,   0,   1,\n",
       "          0,   0,   0,   0,   6,   2,   0,   0,   5,   0,   0,   0,   0],\n",
       "       [  0,   0, 722,   0,   5,   0,   5,   1,   0,   0,   0,   0,   0,\n",
       "          0,   3,   0,   0,   0,   0,   0,   0,   0,   0,   0,   0,   0],\n",
       "       [  0,   3,   0, 788,   1,   0,   1,   6,   0,   0,   0,   0,   1,\n",
       "          2,   3,   0,   0,   0,   0,   0,   0,   0,   0,   0,   0,   0],\n",
       "       [  0,   3,   1,   0, 745,   0,   8,   0,   0,   0,   0,   3,   0,\n",
       "          0,   0,   1,   0,   0,   1,   0,   0,   0,   0,   1,   0,   5],\n",
       "       [  0,   1,   0,   1,   0, 755,   2,   1,   2,   1,   0,   0,   0,\n",
       "          0,   0,   6,   0,   0,   0,   3,   0,   2,   0,   1,   0,   0],\n",
       "       [  0,   1,   3,   3,   6,   0, 755,   0,   0,   0,   0,   0,   1,\n",
       "          0,   1,   0,   1,   0,   0,   0,   0,   1,   1,   0,   0,   0],\n",
       "       [  0,   3,   0,  16,   1,   0,   3, 681,   0,   0,  12,   0,   2,\n",
       "          2,   1,   1,   1,  10,   0,   0,   1,   0,   0,   0,   0,   0],\n",
       "       [  0,   0,   1,   0,   0,   2,   0,   0, 728,  22,   0,   0,   0,\n",
       "          0,   0,   1,   0,   0,   0,   0,   0,   0,   0,   1,   0,   0],\n",
       "       [  2,   0,   0,   2,   2,   1,   0,   1,  22, 714,   0,   0,   0,\n",
       "          1,   1,   0,   0,   0,   0,   0,   1,   0,   0,   0,   0,   0],\n",
       "       [  0,   0,   0,   0,   1,   0,   0,   7,   0,   0, 709,   0,   0,\n",
       "          0,   0,   0,   0,  13,   0,   0,   1,   0,   0,   8,   0,   0],\n",
       "       [  0,   1,   1,   0,   3,   0,   2,   2,   0,   1,   3, 745,   0,\n",
       "          0,   0,   0,   1,   1,   1,   0,   0,   0,   0,   0,   0,   0],\n",
       "       [  0,   1,   0,   0,   0,   0,   0,   0,   0,   0,   0,   0, 785,\n",
       "          2,   0,   0,   0,   0,   0,   0,   1,   2,   1,   0,   0,   0],\n",
       "       [  1,   0,   0,   1,   0,   0,   0,   5,   0,   0,   0,   0,   2,\n",
       "        767,   1,   0,   0,   4,   0,   0,   0,   1,   1,   0,   0,   0],\n",
       "       [  0,   0,   3,   6,   0,   0,   1,   0,   0,   0,   0,   0,   0,\n",
       "          0, 739,   0,   1,   0,   0,   0,   2,   0,   1,   0,   0,   0],\n",
       "       [  0,   2,   0,   0,   1,  16,   0,   2,   0,   0,   0,   1,   0,\n",
       "          0,   0, 776,   3,   0,   0,   0,   0,   0,   0,   0,   2,   0],\n",
       "       [  1,   0,   0,   1,   0,   0,   0,   0,   0,   0,   0,   0,   0,\n",
       "          0,   3,   2, 774,   1,   0,   0,   0,   0,   0,   0,   0,   1],\n",
       "       [  0,  15,   1,   2,   0,   0,   0,   4,   0,   1,   9,   0,   0,\n",
       "          4,   0,   0,   1, 721,   0,   0,   0,   0,   0,   0,   0,   0],\n",
       "       [  0,   1,   0,   0,   2,   0,   0,   0,   0,   0,   0,   0,   0,\n",
       "          0,   0,   0,   0,   1, 743,   0,   0,   0,   0,   0,   0,   1],\n",
       "       [  0,   1,   0,   3,   1,   1,   0,   1,   0,   0,   0,   0,   0,\n",
       "          0,   0,   1,   0,   0,   0, 783,   0,   0,   0,   1,   3,   0],\n",
       "       [  1,   0,   0,   1,   0,   0,   0,   4,   0,   0,   0,   0,   0,\n",
       "          1,   0,   0,   0,   0,   0,   0, 806,   0,   0,   0,   0,   0],\n",
       "       [  0,   8,   0,   1,   0,   1,   0,   0,   0,   0,   0,   0,   1,\n",
       "          2,   0,   1,   0,   0,   0,   0,   0, 747,   2,   0,   1,   0],\n",
       "       [  0,   0,   0,   0,   0,   0,   1,   1,   0,   0,   0,   0,   1,\n",
       "          1,   1,   0,   0,   0,   0,   0,   0,   0, 747,   0,   0,   0],\n",
       "       [  0,   0,   0,   2,   1,   0,   0,   0,   0,   0,   5,   0,   0,\n",
       "          0,   0,   0,   0,   2,   0,   1,   0,   0,   0, 776,   0,   0],\n",
       "       [  3,   0,   0,   0,   0,   0,   0,   0,   0,   0,   0,   0,   0,\n",
       "          0,   0,   0,   0,   0,   0,   1,   3,   3,   0,   1, 775,   0],\n",
       "       [  0,   0,   0,   0,   2,   0,   0,   0,   0,   0,   0,   0,   0,\n",
       "          0,   0,   0,   4,   0,   0,   0,   0,   0,   0,   0,   1, 727]])"
      ]
     },
     "execution_count": 29,
     "metadata": {},
     "output_type": "execute_result"
    }
   ],
   "source": [
    "cnf_matrix"
   ]
  },
  {
   "cell_type": "code",
   "execution_count": null,
   "metadata": {
    "collapsed": true
   },
   "outputs": [],
   "source": []
  },
  {
   "cell_type": "code",
   "execution_count": null,
   "metadata": {
    "collapsed": true
   },
   "outputs": [],
   "source": []
  }
 ],
 "metadata": {
  "kernelspec": {
   "display_name": "Python 3",
   "language": "python",
   "name": "python3"
  },
  "language_info": {
   "codemirror_mode": {
    "name": "ipython",
    "version": 3
   },
   "file_extension": ".py",
   "mimetype": "text/x-python",
   "name": "python",
   "nbconvert_exporter": "python",
   "pygments_lexer": "ipython3",
   "version": "3.5.2"
  }
 },
 "nbformat": 4,
 "nbformat_minor": 2
}
